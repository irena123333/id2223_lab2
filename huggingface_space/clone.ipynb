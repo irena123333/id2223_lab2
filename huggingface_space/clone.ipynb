!git clone https://huggingface.co/spaces/irena/ASR_ID2223
%cd ASR_ID2223 && git fetch origin refs/pr/1:pr/1
!git checkout pr/1
!git push origin pr/1:refs/pr/1
